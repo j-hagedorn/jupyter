{
 "cells": [
  {
   "cell_type": "markdown",
   "metadata": {},
   "source": [
    "## Read texts from _Project Gutenberg_"
   ]
  },
  {
   "cell_type": "markdown",
   "metadata": {
    "slideshow": {
     "slide_type": "-"
    }
   },
   "source": [
    "#### Reading in data\n",
    "\n",
    "Define function which:\n",
    "\n",
    "* accepts a _Project Gutenberg_ ID\n",
    "* downloads text file from _Project Gutenberg_"
   ]
  },
  {
   "cell_type": "code",
   "execution_count": 8,
   "metadata": {
    "collapsed": true
   },
   "outputs": [],
   "source": [
    "def readabook(ID):\n",
    "    url = \"http://www.gutenberg.org/cache/epub/\" + str(ID) + \"/pg\" + str(ID) + \".txt\"\n",
    "    import urllib2 \n",
    "    geturl = urllib2.urlopen(url) \n",
    "    text = geturl.read()\n",
    "    return text"
   ]
  },
  {
   "cell_type": "code",
   "execution_count": null,
   "metadata": {
    "collapsed": false
   },
   "outputs": [],
   "source": [
    "leavesofgrass = readabook(1322)"
   ]
  },
  {
   "cell_type": "markdown",
   "metadata": {},
   "source": [
    "####  Cleaning\n",
    "Define function which:\n",
    "\n",
    "* accepts a character string containing a _Project Gutenberg_ text\n",
    "* shaves off header & footer\n",
    "* separates chapters as separate"
   ]
  },
  {
   "cell_type": "code",
   "execution_count": null,
   "metadata": {
    "collapsed": true
   },
   "outputs": [],
   "source": []
  },
  {
   "cell_type": "markdown",
   "metadata": {},
   "source": [
    "#### Metadata\n",
    "Define function which:\n",
    "\n",
    "* extracts and stores metadata\n",
    "* performs word count"
   ]
  },
  {
   "cell_type": "code",
   "execution_count": null,
   "metadata": {
    "collapsed": false
   },
   "outputs": [],
   "source": []
  },
  {
   "cell_type": "code",
   "execution_count": null,
   "metadata": {
    "collapsed": true
   },
   "outputs": [],
   "source": [
    "text = text.lower()\n",
    "strip = text.replace('\\n', ' ').replace('\\r', ' ').replace(',', ' ').replace('.', ' ').replace('-', ' ')\n",
    "words = strip.split(' ')[0:] \n",
    "wordcount = wordcount(words)"
   ]
  }
 ],
 "metadata": {
  "kernelspec": {
   "display_name": "Python 2",
   "language": "python",
   "name": "python2"
  },
  "language_info": {
   "codemirror_mode": {
    "name": "ipython",
    "version": 2
   },
   "file_extension": ".py",
   "mimetype": "text/x-python",
   "name": "python",
   "nbconvert_exporter": "python",
   "pygments_lexer": "ipython2",
   "version": "2.7.11"
  }
 },
 "nbformat": 4,
 "nbformat_minor": 0
}
